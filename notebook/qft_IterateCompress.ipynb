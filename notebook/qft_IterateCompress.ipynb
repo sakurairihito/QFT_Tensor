{
 "cells": [
  {
   "cell_type": "code",
   "execution_count": 1,
   "metadata": {},
   "outputs": [],
   "source": [
    "using ITensors"
   ]
  },
  {
   "cell_type": "code",
   "execution_count": 2,
   "metadata": {},
   "outputs": [
    {
     "data": {
      "text/plain": [
       "\"Synthesize two MPO as M2 * M1.\\nWhen using the synthesized MPO, M1 will be applied to a MPS first, then M2.\\n\""
      ]
     },
     "execution_count": 2,
     "metadata": {},
     "output_type": "execute_result"
    }
   ],
   "source": [
    "\"\"\"\n",
    "Synthesize two MPO as M2 * M1.\n",
    "When using the synthesized MPO, M1 will be applied to a MPS first, then M2.\n",
    "\"\"\"\n",
    "\n",
    "#Not used\n",
    "#function synthesize(M1::MPO, M2::MPO)\n",
    "#    M21 = contract(prime(M2), M1)\n",
    "#    prime(M21, -1, plev=2) # -1? plev=2?\n",
    "#end\n",
    "\n",
    "#use apply"
   ]
  },
  {
   "cell_type": "code",
   "execution_count": 3,
   "metadata": {},
   "outputs": [],
   "source": [
    "function ITensors.op(::OpName\"CPHASE2\", ::SiteType\"Qubit\"; ϕ::Number)\n",
    "    return [\n",
    "      1 0 0 0\n",
    "      0 1 0 0\n",
    "      0 0 1 0\n",
    "      0 0 0 exp(im * 2π *ϕ)\n",
    "    ]\n",
    "  end\n",
    "  ITensors.op(::OpName\"Cphase2\", t::SiteType\"Qubit\"; kwargs...) = op(\"CPHASE2\", t; kwargs...)\n",
    "\n",
    "  # https://github.com/ITensor/ITensors.jl/blob/main/src/physics/site_types/qubit.jl"
   ]
  },
  {
   "cell_type": "markdown",
   "metadata": {},
   "source": [
    "## QFT FUNCTION\n",
    "### 繰り返し圧縮をする場合 "
   ]
  },
  {
   "cell_type": "code",
   "execution_count": 64,
   "metadata": {},
   "outputs": [
    {
     "data": {
      "text/plain": [
       "ExecFullQFT (generic function with 1 method)"
      ]
     },
     "execution_count": 64,
     "metadata": {},
     "output_type": "execute_result"
    }
   ],
   "source": [
    "#  One Controled Phase gate\n",
    "# controled がかかっていない量子ビットには、Identityを作用させる。\n",
    "function CP(sites, a, b, phase)\n",
    "    nqubit = length(sites)\n",
    "    cp = op(\"CPHASE2\", sites, a, b; ϕ=1/2^(phase))\n",
    "    for i in 1:nqubit #[1,2]から1,2を抜いた配列\n",
    "        if i == a || i == b\n",
    "            continue\n",
    "        end\n",
    "        #@show i\n",
    "        cp *= op(\"Id\", sites, i)\n",
    "    end\n",
    "    return cp\n",
    "end\n",
    "\n",
    "# layer1 のcontroled phase gate ######\n",
    "function MakeOneBlockQFT(sites, offset; cutoffcp::Float64=1e-14) #offsetは,Hがかかる位置\n",
    "    nqubit = length(sites)\n",
    "    block = MPO(Op(\"H\", offset), sites) \n",
    "    for i in range(1, nqubit-offset) #EX)nqubit=2, offset=1\n",
    "        # range(1, 0)の場合for分の中で何も起こらないことを利用している。\n",
    "        phase = i+1\n",
    "        cp = CP(sites, i+offset, offset, phase) #phase=2,3,4,5,6,,,　#layerをここにする。\n",
    "        cp = MPO(cp, sites)\n",
    "        @show (nqubit, maximum([dim(commoninds(cp[n], cp[n+1])[1]) for n in 1:(nqubit-1)]) )\n",
    "        block = apply(cp, block; cutoff=cutoffcp)\n",
    "        @show (nqubit, maximum([dim(commoninds(block[n], block[n+1])[1]) for n in 1:(nqubit-1)]) )\n",
    "    end\n",
    "    #@show maximum([dim(commoninds(block[n], block[n+1])[1]) for n in 1:(nqubit-1)])\n",
    "    return block\n",
    "end\n",
    "\n",
    "function ExecFullQFT(sites; cutoffcp::Float64=1e-14, cutoffblock::Float64=1e-20)\n",
    "    nqubit = length(sites)\n",
    "    fullqft = MPO(Op(\"Id\", 1), sites) #Dummy\n",
    "    for offset in range(1, nqubit)\n",
    "        qftblock = MakeOneBlockQFT(sites, offset; cutoffcp=cutoffcp)\n",
    "        fullqft = apply(qftblock, fullqft; cutoff=cutoffblock)\n",
    "    end\n",
    "    return fullqft\n",
    "end"
   ]
  },
  {
   "cell_type": "code",
   "execution_count": 66,
   "metadata": {},
   "outputs": [
    {
     "name": "stdout",
     "output_type": "stream",
     "text": [
      "(nqubit, maximum([dim((commoninds(cp[n], cp[n + 1]))[1]) for n = 1:nqubit - 1])) = (2, 4)\n",
      "(nqubit, maximum([dim((commoninds(block[n], block[n + 1]))[1]) for n = 1:nqubit - 1])) = (2, 2)\n",
      "(nqubit, maximum([dim((commoninds(cp[n], cp[n + 1]))[1]) for n = 1:nqubit - 1])) = (3, 4)\n",
      "(nqubit, maximum([dim((commoninds(block[n], block[n + 1]))[1]) for n = 1:nqubit - 1])) = (3, 2)\n",
      "(nqubit, maximum([dim((commoninds(cp[n], cp[n + 1]))[1]) for n = 1:nqubit - 1])) = (3, 4)\n",
      "(nqubit, maximum([dim((commoninds(block[n], block[n + 1]))[1]) for n = 1:nqubit - 1])) = (3, 2)\n",
      "(nqubit, maximum([dim((commoninds(cp[n], cp[n + 1]))[1]) for n = 1:nqubit - 1])) = (3, 4)\n",
      "(nqubit, maximum([dim((commoninds(block[n], block[n + 1]))[1]) for n = 1:nqubit - 1])) = (3, 2)\n",
      "(nqubit, maximum([dim((commoninds(cp[n], cp[n + 1]))[1]) for n = 1:nqubit - 1])) = (4, 16)\n",
      "(nqubit, maximum([dim((commoninds(block[n], block[n + 1]))[1]) for n = 1:nqubit - 1])) = (4, 2)\n",
      "(nqubit, maximum([dim((commoninds(cp[n], cp[n + 1]))[1]) for n = 1:nqubit - 1])) = (4, 16)\n",
      "(nqubit, maximum([dim((commoninds(block[n], block[n + 1]))[1]) for n = 1:nqubit - 1])) = (4, 2)\n",
      "(nqubit, maximum([dim((commoninds(cp[n], cp[n + 1]))[1]) for n = 1:nqubit - 1])) = (4, 16)\n",
      "(nqubit, maximum([dim((commoninds(block[n], block[n + 1]))[1]) for n = 1:nqubit - 1])) = (4, 2)\n",
      "(nqubit, maximum([dim((commoninds(cp[n], cp[n + 1]))[1]) for n = 1:nqubit - 1])) = (4, 16)\n",
      "(nqubit, maximum([dim((commoninds(block[n], block[n + 1]))[1]) for n = 1:nqubit - 1])) = (4, 2)\n",
      "(nqubit, maximum([dim((commoninds(cp[n], cp[n + 1]))[1]) for n = 1:nqubit - 1])) = (4, 16)\n",
      "(nqubit, maximum([dim((commoninds(block[n], block[n + 1]))[1]) for n = 1:nqubit - 1])) = (4, 2)\n",
      "(nqubit, maximum([dim((commoninds(cp[n], cp[n + 1]))[1]) for n = 1:nqubit - 1])) = (4, 16)\n",
      "(nqubit, maximum([dim((commoninds(block[n], block[n + 1]))[1]) for n = 1:nqubit - 1])) = (4, 2)\n",
      "(nqubit, maximum([dim((commoninds(cp[n], cp[n + 1]))[1]) for n = 1:nqubit - 1])) = (5, 16)\n",
      "(nqubit, maximum([dim((commoninds(block[n], block[n + 1]))[1]) for n = 1:nqubit - 1])) = (5, 2)\n",
      "(nqubit, maximum([dim((commoninds(cp[n], cp[n + 1]))[1]) for n = 1:nqubit - 1])) = (5, 16)\n",
      "(nqubit, maximum([dim((commoninds(block[n], block[n + 1]))[1]) for n = 1:nqubit - 1])) = (5, 2)\n",
      "(nqubit, maximum([dim((commoninds(cp[n], cp[n + 1]))[1]) for n = 1:nqubit - 1])) = (5, 16)\n",
      "(nqubit, maximum([dim((commoninds(block[n], block[n + 1]))[1]) for n = 1:nqubit - 1])) = (5, 2)\n",
      "(nqubit, maximum([dim((commoninds(cp[n], cp[n + 1]))[1]) for n = 1:nqubit - 1])) = (5, 16)\n",
      "(nqubit, maximum([dim((commoninds(block[n], block[n + 1]))[1]) for n = 1:nqubit - 1])) = (5, 2)\n",
      "(nqubit, maximum([dim((commoninds(cp[n], cp[n + 1]))[1]) for n = 1:nqubit - 1])) = (5, 16)\n",
      "(nqubit, maximum([dim((commoninds(block[n], block[n + 1]))[1]) for n = 1:nqubit - 1])) = (5, 2)\n",
      "(nqubit, maximum([dim((commoninds(cp[n], cp[n + 1]))[1]) for n = 1:nqubit - 1])) = (5, 16)\n",
      "(nqubit, maximum([dim((commoninds(block[n], block[n + 1]))[1]) for n = 1:nqubit - 1])) = (5, 2)\n",
      "(nqubit, maximum([dim((commoninds(cp[n], cp[n + 1]))[1]) for n = 1:nqubit - 1])) = (5, 16)\n",
      "(nqubit, maximum([dim((commoninds(block[n], block[n + 1]))[1]) for n = 1:nqubit - 1])) = (5, 2)\n",
      "(nqubit, maximum([dim((commoninds(cp[n], cp[n + 1]))[1]) for n = 1:nqubit - 1])) = (5, 16)\n",
      "(nqubit, maximum([dim((commoninds(block[n], block[n + 1]))[1]) for n = 1:nqubit - 1])) = (5, 2)\n",
      "(nqubit, maximum([dim((commoninds(cp[n], cp[n + 1]))[1]) for n = 1:nqubit - 1])) = (5, 16)\n",
      "(nqubit, maximum([dim((commoninds(block[n], block[n + 1]))[1]) for n = 1:nqubit - 1])) = (5, 2)\n",
      "(nqubit, maximum([dim((commoninds(cp[n], cp[n + 1]))[1]) for n = 1:nqubit - 1])) = (5, 16)\n",
      "(nqubit, maximum([dim((commoninds(block[n], block[n + 1]))[1]) for n = 1:nqubit - 1])) = (5, 2)\n",
      "(nqubit, maximum([dim((commoninds(cp[n], cp[n + 1]))[1]) for n = 1:nqubit - 1])) = (6, 64)\n",
      "(nqubit, maximum([dim((commoninds(block[n], block[n + 1]))[1]) for n = 1:nqubit - 1])) = (6, 2)\n",
      "(nqubit, maximum([dim((commoninds(cp[n], cp[n + 1]))[1]) for n = 1:nqubit - 1])) = (6, 64)\n",
      "(nqubit, maximum([dim((commoninds(block[n], block[n + 1]))[1]) for n = 1:nqubit - 1])) = (6, 2)\n",
      "(nqubit, maximum([dim((commoninds(cp[n], cp[n + 1]))[1]) for n = 1:nqubit - 1])) = (6, 64)\n",
      "(nqubit, maximum([dim((commoninds(block[n], block[n + 1]))[1]) for n = 1:nqubit - 1])) = (6, 2)\n",
      "(nqubit, maximum([dim((commoninds(cp[n], cp[n + 1]))[1]) for n = 1:nqubit - 1])) = (6, 64)\n",
      "(nqubit, maximum([dim((commoninds(block[n], block[n + 1]))[1]) for n = 1:nqubit - 1])) = (6, 2)\n",
      "(nqubit, maximum([dim((commoninds(cp[n], cp[n + 1]))[1]) for n = 1:nqubit - 1])) = (6, 64)\n",
      "(nqubit, maximum([dim((commoninds(block[n], block[n + 1]))[1]) for n = 1:nqubit - 1])) = (6, 2)\n",
      "(nqubit, maximum([dim((commoninds(cp[n], cp[n + 1]))[1]) for n = 1:nqubit - 1])) = (6, 64)\n",
      "(nqubit, maximum([dim((commoninds(block[n], block[n + 1]))[1]) for n = 1:nqubit - 1])) = (6, 2)\n",
      "(nqubit, maximum([dim((commoninds(cp[n], cp[n + 1]))[1]) for n = 1:nqubit - 1])) = (6, 64)\n",
      "(nqubit, maximum([dim((commoninds(block[n], block[n + 1]))[1]) for n = 1:nqubit - 1])) = (6, 2)\n",
      "(nqubit, maximum([dim((commoninds(cp[n], cp[n + 1]))[1]) for n = 1:nqubit - 1])) = (6, 64)\n",
      "(nqubit, maximum([dim((commoninds(block[n], block[n + 1]))[1]) for n = 1:nqubit - 1])) = (6, 2)\n",
      "(nqubit, maximum([dim((commoninds(cp[n], cp[n + 1]))[1]) for n = 1:nqubit - 1])) = (6, 64)\n",
      "(nqubit, maximum([dim((commoninds(block[n], block[n + 1]))[1]) for n = 1:nqubit - 1])) = (6, 2)\n",
      "(nqubit, maximum([dim((commoninds(cp[n], cp[n + 1]))[1]) for n = 1:nqubit - 1])) = (6, 64)\n",
      "(nqubit, maximum([dim((commoninds(block[n], block[n + 1]))[1]) for n = 1:nqubit - 1])) = (6, 2)\n",
      "(nqubit, maximum([dim((commoninds(cp[n], cp[n + 1]))[1]) for n = 1:nqubit - 1])) = (6, 64)\n",
      "(nqubit, maximum([dim((commoninds(block[n], block[n + 1]))[1]) for n = 1:nqubit - 1])) = (6, 2)\n",
      "(nqubit, maximum([dim((commoninds(cp[n], cp[n + 1]))[1]) for n = 1:nqubit - 1])) = (6, 64)\n",
      "(nqubit, maximum([dim((commoninds(block[n], block[n + 1]))[1]) for n = 1:nqubit - 1])) = (6, 2)\n",
      "(nqubit, maximum([dim((commoninds(cp[n], cp[n + 1]))[1]) for n = 1:nqubit - 1])) = (6, 64)\n",
      "(nqubit, maximum([dim((commoninds(block[n], block[n + 1]))[1]) for n = 1:nqubit - 1])) = (6, 2)\n",
      "(nqubit, maximum([dim((commoninds(cp[n], cp[n + 1]))[1]) for n = 1:nqubit - 1])) = (6, 64)\n",
      "(nqubit, maximum([dim((commoninds(block[n], block[n + 1]))[1]) for n = 1:nqubit - 1])) = (6, 2)\n",
      "(nqubit, maximum([dim((commoninds(cp[n], cp[n + 1]))[1]) for n = 1:nqubit - 1])) = (6, 64)\n",
      "(nqubit, maximum([dim((commoninds(block[n], block[n + 1]))[1]) for n = 1:nqubit - 1])) = (6, 2)\n",
      "(nqubit, maximum([dim((commoninds(cp[n], cp[n + 1]))[1]) for n = 1:nqubit - 1])) = (7, 64)\n",
      "(nqubit, maximum([dim((commoninds(block[n], block[n + 1]))[1]) for n = 1:nqubit - 1])) = (7, 2)\n",
      "(nqubit, maximum([dim((commoninds(cp[n], cp[n + 1]))[1]) for n = 1:nqubit - 1])) = (7, 64)\n",
      "(nqubit, maximum([dim((commoninds(block[n], block[n + 1]))[1]) for n = 1:nqubit - 1])) = (7, 2)\n",
      "(nqubit, maximum([dim((commoninds(cp[n], cp[n + 1]))[1]) for n = 1:nqubit - 1])) = (7, 64)\n",
      "(nqubit, maximum([dim((commoninds(block[n], block[n + 1]))[1]) for n = 1:nqubit - 1])) = (7, 2)\n",
      "(nqubit, maximum([dim((commoninds(cp[n], cp[n + 1]))[1]) for n = 1:nqubit - 1])) = (7, 64)\n",
      "(nqubit, maximum([dim((commoninds(block[n], block[n + 1]))[1]) for n = 1:nqubit - 1])) = (7, 2)\n",
      "(nqubit, maximum([dim((commoninds(cp[n], cp[n + 1]))[1]) for n = 1:nqubit - 1])) = (7, 64)\n",
      "(nqubit, maximum([dim((commoninds(block[n], block[n + 1]))[1]) for n = 1:nqubit - 1])) = (7, 2)\n",
      "(nqubit, maximum([dim((commoninds(cp[n], cp[n + 1]))[1]) for n = 1:nqubit - 1])) = (7, 64)\n",
      "(nqubit, maximum([dim((commoninds(block[n], block[n + 1]))[1]) for n = 1:nqubit - 1])) = (7, 2)\n",
      "(nqubit, maximum([dim((commoninds(cp[n], cp[n + 1]))[1]) for n = 1:nqubit - 1])) = (7, 64)\n",
      "(nqubit, maximum([dim((commoninds(block[n], block[n + 1]))[1]) for n = 1:nqubit - 1])) = (7, 2)\n",
      "(nqubit, maximum([dim((commoninds(cp[n], cp[n + 1]))[1]) for n = 1:nqubit - 1])) = (7, 64)\n",
      "(nqubit, maximum([dim((commoninds(block[n], block[n + 1]))[1]) for n = 1:nqubit - 1])) = (7, 2)\n",
      "(nqubit, maximum([dim((commoninds(cp[n], cp[n + 1]))[1]) for n = 1:nqubit - 1])) = (7, 64)\n",
      "(nqubit, maximum([dim((commoninds(block[n], block[n + 1]))[1]) for n = 1:nqubit - 1])) = (7, 2)\n",
      "(nqubit, maximum([dim((commoninds(cp[n], cp[n + 1]))[1]) for n = 1:nqubit - 1])) = (7, 64)\n",
      "(nqubit, maximum([dim((commoninds(block[n], block[n + 1]))[1]) for n = 1:nqubit - 1])) = (7, 2)\n",
      "(nqubit, maximum([dim((commoninds(cp[n], cp[n + 1]))[1]) for n = 1:nqubit - 1])) = (7, 64)\n",
      "(nqubit, maximum([dim((commoninds(block[n], block[n + 1]))[1]) for n = 1:nqubit - 1])) = (7, 2)\n",
      "(nqubit, maximum([dim((commoninds(cp[n], cp[n + 1]))[1]) for n = 1:nqubit - 1])) = (7, 64)\n",
      "(nqubit, maximum([dim((commoninds(block[n], block[n + 1]))[1]) for n = 1:nqubit - 1])) = (7, 2)\n",
      "(nqubit, maximum([dim((commoninds(cp[n], cp[n + 1]))[1]) for n = 1:nqubit - 1])) = (7, 64)\n",
      "(nqubit, maximum([dim((commoninds(block[n], block[n + 1]))[1]) for n = 1:nqubit - 1])) = (7, 2)\n",
      "(nqubit, maximum([dim((commoninds(cp[n], cp[n + 1]))[1]) for n = 1:nqubit - 1])) = (7, 64)\n",
      "(nqubit, maximum([dim((commoninds(block[n], block[n + 1]))[1]) for n = 1:nqubit - 1])) = (7, 2)\n",
      "(nqubit, maximum([dim((commoninds(cp[n], cp[n + 1]))[1]) for n = 1:nqubit - 1])) = (7, 64)\n",
      "(nqubit, maximum([dim((commoninds(block[n], block[n + 1]))[1]) for n = 1:nqubit - 1])) = (7, 2)\n",
      "(nqubit, maximum([dim((commoninds(cp[n], cp[n + 1]))[1]) for n = 1:nqubit - 1])) = (7, 64)\n",
      "(nqubit, maximum([dim((commoninds(block[n], block[n + 1]))[1]) for n = 1:nqubit - 1])) = (7, 2)\n",
      "(nqubit, maximum([dim((commoninds(cp[n], cp[n + 1]))[1]) for n = 1:nqubit - 1])) = (7, 64)\n",
      "(nqubit, maximum([dim((commoninds(block[n], block[n + 1]))[1]) for n = 1:nqubit - 1])) = (7, 2)\n",
      "(nqubit, maximum([dim((commoninds(cp[n], cp[n + 1]))[1]) for n = 1:nqubit - 1])) = (7, 64)\n",
      "(nqubit, maximum([dim((commoninds(block[n], block[n + 1]))[1]) for n = 1:nqubit - 1])) = (7, 2)\n",
      "(nqubit, maximum([dim((commoninds(cp[n], cp[n + 1]))[1]) for n = 1:nqubit - 1])) = (7, 64)\n",
      "(nqubit, maximum([dim((commoninds(block[n], block[n + 1]))[1]) for n = 1:nqubit - 1])) = (7, 2)\n",
      "(nqubit, maximum([dim((commoninds(cp[n], cp[n + 1]))[1]) for n = 1:nqubit - 1])) = (7, 64)\n",
      "(nqubit, maximum([dim((commoninds(block[n], block[n + 1]))[1]) for n = 1:nqubit - 1])) = (7, 2)\n",
      "(nqubit, maximum([dim((commoninds(cp[n], cp[n + 1]))[1]) for n = 1:nqubit - 1])) = (7, 64)\n",
      "(nqubit, maximum([dim((commoninds(block[n], block[n + 1]))[1]) for n = 1:nqubit - 1])) = (7, 2)\n",
      "(nqubit, maximum([dim((commoninds(cp[n], cp[n + 1]))[1]) for n = 1:nqubit - 1])) = (8, 256)\n",
      "(nqubit, maximum([dim((commoninds(block[n], block[n + 1]))[1]) for n = 1:nqubit - 1])) = (8, 2)\n",
      "(nqubit, maximum([dim((commoninds(cp[n], cp[n + 1]))[1]) for n = 1:nqubit - 1])) = (8, 256)\n",
      "(nqubit, maximum([dim((commoninds(block[n], block[n + 1]))[1]) for n = 1:nqubit - 1])) = (8, 2)\n",
      "(nqubit, maximum([dim((commoninds(cp[n], cp[n + 1]))[1]) for n = 1:nqubit - 1])) = (8, 256)\n",
      "(nqubit, maximum([dim((commoninds(block[n], block[n + 1]))[1]) for n = 1:nqubit - 1])) = (8, 2)\n",
      "(nqubit, maximum([dim((commoninds(cp[n], cp[n + 1]))[1]) for n = 1:nqubit - 1])) = (8, 256)\n",
      "(nqubit, maximum([dim((commoninds(block[n], block[n + 1]))[1]) for n = 1:nqubit - 1])) = (8, 2)\n",
      "(nqubit, maximum([dim((commoninds(cp[n], cp[n + 1]))[1]) for n = 1:nqubit - 1])) = (8, 256)\n",
      "(nqubit, maximum([dim((commoninds(block[n], block[n + 1]))[1]) for n = 1:nqubit - 1])) = (8, 2)\n",
      "(nqubit, maximum([dim((commoninds(cp[n], cp[n + 1]))[1]) for n = 1:nqubit - 1])) = (8, 256)\n",
      "(nqubit, maximum([dim((commoninds(block[n], block[n + 1]))[1]) for n = 1:nqubit - 1])) = (8, 2)\n",
      "(nqubit, maximum([dim((commoninds(cp[n], cp[n + 1]))[1]) for n = 1:nqubit - 1])) = (8, 256)\n",
      "(nqubit, maximum([dim((commoninds(block[n], block[n + 1]))[1]) for n = 1:nqubit - 1])) = (8, 2)\n",
      "(nqubit, maximum([dim((commoninds(cp[n], cp[n + 1]))[1]) for n = 1:nqubit - 1])) = (8, 256)\n",
      "(nqubit, maximum([dim((commoninds(block[n], block[n + 1]))[1]) for n = 1:nqubit - 1])) = (8, 2)\n",
      "(nqubit, maximum([dim((commoninds(cp[n], cp[n + 1]))[1]) for n = 1:nqubit - 1])) = (8, 256)\n",
      "(nqubit, maximum([dim((commoninds(block[n], block[n + 1]))[1]) for n = 1:nqubit - 1])) = (8, 2)\n",
      "(nqubit, maximum([dim((commoninds(cp[n], cp[n + 1]))[1]) for n = 1:nqubit - 1])) = (8, 256)\n",
      "(nqubit, maximum([dim((commoninds(block[n], block[n + 1]))[1]) for n = 1:nqubit - 1])) = (8, 2)\n",
      "(nqubit, maximum([dim((commoninds(cp[n], cp[n + 1]))[1]) for n = 1:nqubit - 1])) = (8, 256)\n",
      "(nqubit, maximum([dim((commoninds(block[n], block[n + 1]))[1]) for n = 1:nqubit - 1])) = (8, 2)\n",
      "(nqubit, maximum([dim((commoninds(cp[n], cp[n + 1]))[1]) for n = 1:nqubit - 1])) = (8, 256)\n",
      "(nqubit, maximum([dim((commoninds(block[n], block[n + 1]))[1]) for n = 1:nqubit - 1])) = (8, 2)\n",
      "(nqubit, maximum([dim((commoninds(cp[n], cp[n + 1]))[1]) for n = 1:nqubit - 1])) = (8, 256)\n",
      "(nqubit, maximum([dim((commoninds(block[n], block[n + 1]))[1]) for n = 1:nqubit - 1])) = (8, 2)\n",
      "(nqubit, maximum([dim((commoninds(cp[n], cp[n + 1]))[1]) for n = 1:nqubit - 1])) = (8, 256)\n",
      "(nqubit, maximum([dim((commoninds(block[n], block[n + 1]))[1]) for n = 1:nqubit - 1])) = (8, 2)\n",
      "(nqubit, maximum([dim((commoninds(cp[n], cp[n + 1]))[1]) for n = 1:nqubit - 1])) = (8, 256)\n",
      "(nqubit, maximum([dim((commoninds(block[n], block[n + 1]))[1]) for n = 1:nqubit - 1])) = (8, 2)\n",
      "(nqubit, maximum([dim((commoninds(cp[n], cp[n + 1]))[1]) for n = 1:nqubit - 1])) = (8, 256)\n",
      "(nqubit, maximum([dim((commoninds(block[n], block[n + 1]))[1]) for n = 1:nqubit - 1])) = (8, 2)\n",
      "(nqubit, maximum([dim((commoninds(cp[n], cp[n + 1]))[1]) for n = 1:nqubit - 1])) = (8, 256)\n",
      "(nqubit, maximum([dim((commoninds(block[n], block[n + 1]))[1]) for n = 1:nqubit - 1])) = (8, 2)\n",
      "(nqubit, maximum([dim((commoninds(cp[n], cp[n + 1]))[1]) for n = 1:nqubit - 1])) = (8, 256)\n",
      "(nqubit, maximum([dim((commoninds(block[n], block[n + 1]))[1]) for n = 1:nqubit - 1])) = (8, 2)\n",
      "(nqubit, maximum([dim((commoninds(cp[n], cp[n + 1]))[1]) for n = 1:nqubit - 1])) = (8, 256)\n",
      "(nqubit, maximum([dim((commoninds(block[n], block[n + 1]))[1]) for n = 1:nqubit - 1])) = (8, 2)\n",
      "(nqubit, maximum([dim((commoninds(cp[n], cp[n + 1]))[1]) for n = 1:nqubit - 1])) = (8, 256)\n",
      "(nqubit, maximum([dim((commoninds(block[n], block[n + 1]))[1]) for n = 1:nqubit - 1])) = (8, 2)\n",
      "(nqubit, maximum([dim((commoninds(cp[n], cp[n + 1]))[1]) for n = 1:nqubit - 1])) = (8, 256)\n",
      "(nqubit, maximum([dim((commoninds(block[n], block[n + 1]))[1]) for n = 1:nqubit - 1])) = (8, 2)\n",
      "(nqubit, maximum([dim((commoninds(cp[n], cp[n + 1]))[1]) for n = 1:nqubit - 1])) = (8, 256)\n",
      "(nqubit, maximum([dim((commoninds(block[n], block[n + 1]))[1]) for n = 1:nqubit - 1])) = (8, 2)\n",
      "(nqubit, maximum([dim((commoninds(cp[n], cp[n + 1]))[1]) for n = 1:nqubit - 1])) = (8, 256)\n",
      "(nqubit, maximum([dim((commoninds(block[n], block[n + 1]))[1]) for n = 1:nqubit - 1])) = (8, 2)\n",
      "(nqubit, maximum([dim((commoninds(cp[n], cp[n + 1]))[1]) for n = 1:nqubit - 1])) = (8, 256)\n",
      "(nqubit, maximum([dim((commoninds(block[n], block[n + 1]))[1]) for n = 1:nqubit - 1])) = (8, 2)\n",
      "(nqubit, maximum([dim((commoninds(cp[n], cp[n + 1]))[1]) for n = 1:nqubit - 1])) = (8, 256)\n",
      "(nqubit, maximum([dim((commoninds(block[n], block[n + 1]))[1]) for n = 1:nqubit - 1])) = (8, 2)\n",
      "(nqubit, maximum([dim((commoninds(cp[n], cp[n + 1]))[1]) for n = 1:nqubit - 1])) = (8, 256)\n",
      "(nqubit, maximum([dim((commoninds(block[n], block[n + 1]))[1]) for n = 1:nqubit - 1])) = (8, 2)\n",
      "(nqubit, maximum([dim((commoninds(cp[n], cp[n + 1]))[1]) for n = 1:nqubit - 1])) = (8, 256)\n",
      "(nqubit, maximum([dim((commoninds(block[n], block[n + 1]))[1]) for n = 1:nqubit - 1])) = (8, 2)\n",
      "(nqubit, maximum([dim((commoninds(cp[n], cp[n + 1]))[1]) for n = 1:nqubit - 1])) = (8, 256)\n",
      "(nqubit, maximum([dim((commoninds(block[n], block[n + 1]))[1]) for n = 1:nqubit - 1])) = (8, 2)\n",
      "(nqubit, maximum([dim((commoninds(cp[n], cp[n + 1]))[1]) for n = 1:nqubit - 1])) = (9, 256)\n",
      "(nqubit, maximum([dim((commoninds(block[n], block[n + 1]))[1]) for n = 1:nqubit - 1])) = (9, 2)\n",
      "(nqubit, maximum([dim((commoninds(cp[n], cp[n + 1]))[1]) for n = 1:nqubit - 1])) = (9, 256)\n",
      "(nqubit, maximum([dim((commoninds(block[n], block[n + 1]))[1]) for n = 1:nqubit - 1])) = (9, 2)\n",
      "(nqubit, maximum([dim((commoninds(cp[n], cp[n + 1]))[1]) for n = 1:nqubit - 1])) = (9, 256)\n",
      "(nqubit, maximum([dim((commoninds(block[n], block[n + 1]))[1]) for n = 1:nqubit - 1])) = (9, 2)\n",
      "(nqubit, maximum([dim((commoninds(cp[n], cp[n + 1]))[1]) for n = 1:nqubit - 1])) = (9, 256)\n",
      "(nqubit, maximum([dim((commoninds(block[n], block[n + 1]))[1]) for n = 1:nqubit - 1])) = (9, 2)\n",
      "(nqubit, maximum([dim((commoninds(cp[n], cp[n + 1]))[1]) for n = 1:nqubit - 1])) = (9, 256)\n",
      "(nqubit, maximum([dim((commoninds(block[n], block[n + 1]))[1]) for n = 1:nqubit - 1])) = (9, 2)\n",
      "(nqubit, maximum([dim((commoninds(cp[n], cp[n + 1]))[1]) for n = 1:nqubit - 1])) = (9, 256)\n",
      "(nqubit, maximum([dim((commoninds(block[n], block[n + 1]))[1]) for n = 1:nqubit - 1])) = (9, 2)\n",
      "(nqubit, maximum([dim((commoninds(cp[n], cp[n + 1]))[1]) for n = 1:nqubit - 1])) = (9, 256)\n",
      "(nqubit, maximum([dim((commoninds(block[n], block[n + 1]))[1]) for n = 1:nqubit - 1])) = (9, 2)\n",
      "(nqubit, maximum([dim((commoninds(cp[n], cp[n + 1]))[1]) for n = 1:nqubit - 1])) = (9, 256)\n",
      "(nqubit, maximum([dim((commoninds(block[n], block[n + 1]))[1]) for n = 1:nqubit - 1])) = (9, 2)\n",
      "(nqubit, maximum([dim((commoninds(cp[n], cp[n + 1]))[1]) for n = 1:nqubit - 1])) = (9, 256)\n",
      "(nqubit, maximum([dim((commoninds(block[n], block[n + 1]))[1]) for n = 1:nqubit - 1])) = (9, 2)\n",
      "(nqubit, maximum([dim((commoninds(cp[n], cp[n + 1]))[1]) for n = 1:nqubit - 1])) = (9, 256)\n",
      "(nqubit, maximum([dim((commoninds(block[n], block[n + 1]))[1]) for n = 1:nqubit - 1])) = (9, 2)\n",
      "(nqubit, maximum([dim((commoninds(cp[n], cp[n + 1]))[1]) for n = 1:nqubit - 1])) = (9, 256)\n",
      "(nqubit, maximum([dim((commoninds(block[n], block[n + 1]))[1]) for n = 1:nqubit - 1])) = (9, 2)\n",
      "(nqubit, maximum([dim((commoninds(cp[n], cp[n + 1]))[1]) for n = 1:nqubit - 1])) = (9, 256)\n",
      "(nqubit, maximum([dim((commoninds(block[n], block[n + 1]))[1]) for n = 1:nqubit - 1])) = (9, 2)\n",
      "(nqubit, maximum([dim((commoninds(cp[n], cp[n + 1]))[1]) for n = 1:nqubit - 1])) = (9, 256)\n",
      "(nqubit, maximum([dim((commoninds(block[n], block[n + 1]))[1]) for n = 1:nqubit - 1])) = (9, 2)\n",
      "(nqubit, maximum([dim((commoninds(cp[n], cp[n + 1]))[1]) for n = 1:nqubit - 1])) = (9, 256)\n",
      "(nqubit, maximum([dim((commoninds(block[n], block[n + 1]))[1]) for n = 1:nqubit - 1])) = (9, 2)\n",
      "(nqubit, maximum([dim((commoninds(cp[n], cp[n + 1]))[1]) for n = 1:nqubit - 1])) = (9, 256)\n",
      "(nqubit, maximum([dim((commoninds(block[n], block[n + 1]))[1]) for n = 1:nqubit - 1])) = (9, 2)\n",
      "(nqubit, maximum([dim((commoninds(cp[n], cp[n + 1]))[1]) for n = 1:nqubit - 1])) = (9, 256)\n",
      "(nqubit, maximum([dim((commoninds(block[n], block[n + 1]))[1]) for n = 1:nqubit - 1])) = (9, 2)\n",
      "(nqubit, maximum([dim((commoninds(cp[n], cp[n + 1]))[1]) for n = 1:nqubit - 1])) = (9, 256)\n",
      "(nqubit, maximum([dim((commoninds(block[n], block[n + 1]))[1]) for n = 1:nqubit - 1])) = (9, 2)\n",
      "(nqubit, maximum([dim((commoninds(cp[n], cp[n + 1]))[1]) for n = 1:nqubit - 1])) = (9, 256)\n",
      "(nqubit, maximum([dim((commoninds(block[n], block[n + 1]))[1]) for n = 1:nqubit - 1])) = (9, 2)\n",
      "(nqubit, maximum([dim((commoninds(cp[n], cp[n + 1]))[1]) for n = 1:nqubit - 1])) = (9, 256)\n",
      "(nqubit, maximum([dim((commoninds(block[n], block[n + 1]))[1]) for n = 1:nqubit - 1])) = (9, 2)\n",
      "(nqubit, maximum([dim((commoninds(cp[n], cp[n + 1]))[1]) for n = 1:nqubit - 1])) = (9, 256)\n",
      "(nqubit, maximum([dim((commoninds(block[n], block[n + 1]))[1]) for n = 1:nqubit - 1])) = (9, 2)\n",
      "(nqubit, maximum([dim((commoninds(cp[n], cp[n + 1]))[1]) for n = 1:nqubit - 1])) = (9, 256)\n",
      "(nqubit, maximum([dim((commoninds(block[n], block[n + 1]))[1]) for n = 1:nqubit - 1])) = (9, 2)\n",
      "(nqubit, maximum([dim((commoninds(cp[n], cp[n + 1]))[1]) for n = 1:nqubit - 1])) = (9, 256)\n",
      "(nqubit, maximum([dim((commoninds(block[n], block[n + 1]))[1]) for n = 1:nqubit - 1])) = (9, 2)\n",
      "(nqubit, maximum([dim((commoninds(cp[n], cp[n + 1]))[1]) for n = 1:nqubit - 1])) = (9, 256)\n",
      "(nqubit, maximum([dim((commoninds(block[n], block[n + 1]))[1]) for n = 1:nqubit - 1])) = (9, 2)\n",
      "(nqubit, maximum([dim((commoninds(cp[n], cp[n + 1]))[1]) for n = 1:nqubit - 1])) = (9, 256)\n",
      "(nqubit, maximum([dim((commoninds(block[n], block[n + 1]))[1]) for n = 1:nqubit - 1])) = (9, 2)\n",
      "(nqubit, maximum([dim((commoninds(cp[n], cp[n + 1]))[1]) for n = 1:nqubit - 1])) = (9, 256)\n",
      "(nqubit, maximum([dim((commoninds(block[n], block[n + 1]))[1]) for n = 1:nqubit - 1])) = (9, 2)\n",
      "(nqubit, maximum([dim((commoninds(cp[n], cp[n + 1]))[1]) for n = 1:nqubit - 1])) = (9, 256)\n",
      "(nqubit, maximum([dim((commoninds(block[n], block[n + 1]))[1]) for n = 1:nqubit - 1])) = (9, 2)\n",
      "(nqubit, maximum([dim((commoninds(cp[n], cp[n + 1]))[1]) for n = 1:nqubit - 1])) = (9, 256)\n",
      "(nqubit, maximum([dim((commoninds(block[n], block[n + 1]))[1]) for n = 1:nqubit - 1])) = (9, 2)\n",
      "(nqubit, maximum([dim((commoninds(cp[n], cp[n + 1]))[1]) for n = 1:nqubit - 1])) = (9, 256)\n",
      "(nqubit, maximum([dim((commoninds(block[n], block[n + 1]))[1]) for n = 1:nqubit - 1])) = (9, 2)\n",
      "(nqubit, maximum([dim((commoninds(cp[n], cp[n + 1]))[1]) for n = 1:nqubit - 1])) = (9, 256)\n",
      "(nqubit, maximum([dim((commoninds(block[n], block[n + 1]))[1]) for n = 1:nqubit - 1])) = (9, 2)\n",
      "(nqubit, maximum([dim((commoninds(cp[n], cp[n + 1]))[1]) for n = 1:nqubit - 1])) = (9, 256)\n",
      "(nqubit, maximum([dim((commoninds(block[n], block[n + 1]))[1]) for n = 1:nqubit - 1])) = (9, 2)\n",
      "(nqubit, maximum([dim((commoninds(cp[n], cp[n + 1]))[1]) for n = 1:nqubit - 1])) = (9, 256)\n",
      "(nqubit, maximum([dim((commoninds(block[n], block[n + 1]))[1]) for n = 1:nqubit - 1])) = (9, 2)\n",
      "(nqubit, maximum([dim((commoninds(cp[n], cp[n + 1]))[1]) for n = 1:nqubit - 1])) = (9, 256)\n",
      "(nqubit, maximum([dim((commoninds(block[n], block[n + 1]))[1]) for n = 1:nqubit - 1])) = (9, 2)\n",
      "(nqubit, maximum([dim((commoninds(cp[n], cp[n + 1]))[1]) for n = 1:nqubit - 1])) = (9, 256)\n",
      "(nqubit, maximum([dim((commoninds(block[n], block[n + 1]))[1]) for n = 1:nqubit - 1])) = (9, 2)\n",
      "(nqubit, maximum([dim((commoninds(cp[n], cp[n + 1]))[1]) for n = 1:nqubit - 1])) = (9, 256)\n",
      "(nqubit, maximum([dim((commoninds(block[n], block[n + 1]))[1]) for n = 1:nqubit - 1])) = (9, 2)\n",
      "(nqubit, maximum([dim((commoninds(cp[n], cp[n + 1]))[1]) for n = 1:nqubit - 1])) = (9, 256)\n",
      "(nqubit, maximum([dim((commoninds(block[n], block[n + 1]))[1]) for n = 1:nqubit - 1])) = (9, 2)\n",
      "(nqubit, maximum([dim((commoninds(cp[n], cp[n + 1]))[1]) for n = 1:nqubit - 1])) = (9, 256)\n",
      "(nqubit, maximum([dim((commoninds(block[n], block[n + 1]))[1]) for n = 1:nqubit - 1])) = (9, 2)\n",
      "(nqubit, maximum([dim((commoninds(cp[n], cp[n + 1]))[1]) for n = 1:nqubit - 1])) = (10, 1024)\n",
      "(nqubit, maximum([dim((commoninds(block[n], block[n + 1]))[1]) for n = 1:nqubit - 1])) = (10, 2)\n",
      "(nqubit, maximum([dim((commoninds(cp[n], cp[n + 1]))[1]) for n = 1:nqubit - 1])) = (10, 1024)\n",
      "(nqubit, maximum([dim((commoninds(block[n], block[n + 1]))[1]) for n = 1:nqubit - 1])) = (10, 2)\n",
      "(nqubit, maximum([dim((commoninds(cp[n], cp[n + 1]))[1]) for n = 1:nqubit - 1])) = (10, 1024)\n",
      "(nqubit, maximum([dim((commoninds(block[n], block[n + 1]))[1]) for n = 1:nqubit - 1])) = (10, 2)\n",
      "(nqubit, maximum([dim((commoninds(cp[n], cp[n + 1]))[1]) for n = 1:nqubit - 1])) = (10, 1024)\n",
      "(nqubit, maximum([dim((commoninds(block[n], block[n + 1]))[1]) for n = 1:nqubit - 1])) = (10, 2)\n",
      "(nqubit, maximum([dim((commoninds(cp[n], cp[n + 1]))[1]) for n = 1:nqubit - 1])) = (10, 1024)\n",
      "(nqubit, maximum([dim((commoninds(block[n], block[n + 1]))[1]) for n = 1:nqubit - 1])) = (10, 2)\n",
      "(nqubit, maximum([dim((commoninds(cp[n], cp[n + 1]))[1]) for n = 1:nqubit - 1])) = (10, 1024)\n",
      "(nqubit, maximum([dim((commoninds(block[n], block[n + 1]))[1]) for n = 1:nqubit - 1])) = (10, 2)\n",
      "(nqubit, maximum([dim((commoninds(cp[n], cp[n + 1]))[1]) for n = 1:nqubit - 1])) = (10, 1024)\n",
      "(nqubit, maximum([dim((commoninds(block[n], block[n + 1]))[1]) for n = 1:nqubit - 1])) = (10, 2)\n",
      "(nqubit, maximum([dim((commoninds(cp[n], cp[n + 1]))[1]) for n = 1:nqubit - 1])) = (10, 1024)\n",
      "(nqubit, maximum([dim((commoninds(block[n], block[n + 1]))[1]) for n = 1:nqubit - 1])) = (10, 2)\n",
      "(nqubit, maximum([dim((commoninds(cp[n], cp[n + 1]))[1]) for n = 1:nqubit - 1])) = (10, 1024)\n",
      "(nqubit, maximum([dim((commoninds(block[n], block[n + 1]))[1]) for n = 1:nqubit - 1])) = (10, 2)\n",
      "(nqubit, maximum([dim((commoninds(cp[n], cp[n + 1]))[1]) for n = 1:nqubit - 1])) = (10, 1024)\n",
      "(nqubit, maximum([dim((commoninds(block[n], block[n + 1]))[1]) for n = 1:nqubit - 1])) = (10, 2)\n",
      "(nqubit, maximum([dim((commoninds(cp[n], cp[n + 1]))[1]) for n = 1:nqubit - 1])) = (10, 1024)\n",
      "(nqubit, maximum([dim((commoninds(block[n], block[n + 1]))[1]) for n = 1:nqubit - 1])) = (10, 2)\n",
      "(nqubit, maximum([dim((commoninds(cp[n], cp[n + 1]))[1]) for n = 1:nqubit - 1])) = (10, 1024)\n",
      "(nqubit, maximum([dim((commoninds(block[n], block[n + 1]))[1]) for n = 1:nqubit - 1])) = (10, 2)\n",
      "(nqubit, maximum([dim((commoninds(cp[n], cp[n + 1]))[1]) for n = 1:nqubit - 1])) = (10, 1024)\n",
      "(nqubit, maximum([dim((commoninds(block[n], block[n + 1]))[1]) for n = 1:nqubit - 1])) = (10, 2)\n",
      "(nqubit, maximum([dim((commoninds(cp[n], cp[n + 1]))[1]) for n = 1:nqubit - 1])) = (10, 1024)\n",
      "(nqubit, maximum([dim((commoninds(block[n], block[n + 1]))[1]) for n = 1:nqubit - 1])) = (10, 2)\n",
      "(nqubit, maximum([dim((commoninds(cp[n], cp[n + 1]))[1]) for n = 1:nqubit - 1])) = (10, 1024)\n",
      "(nqubit, maximum([dim((commoninds(block[n], block[n + 1]))[1]) for n = 1:nqubit - 1])) = (10, 2)\n",
      "(nqubit, maximum([dim((commoninds(cp[n], cp[n + 1]))[1]) for n = 1:nqubit - 1])) = (10, 1024)\n",
      "(nqubit, maximum([dim((commoninds(block[n], block[n + 1]))[1]) for n = 1:nqubit - 1])) = (10, 2)\n",
      "(nqubit, maximum([dim((commoninds(cp[n], cp[n + 1]))[1]) for n = 1:nqubit - 1])) = (10, 1024)\n",
      "(nqubit, maximum([dim((commoninds(block[n], block[n + 1]))[1]) for n = 1:nqubit - 1])) = (10, 2)\n",
      "(nqubit, maximum([dim((commoninds(cp[n], cp[n + 1]))[1]) for n = 1:nqubit - 1])) = (10, 1024)\n",
      "(nqubit, maximum([dim((commoninds(block[n], block[n + 1]))[1]) for n = 1:nqubit - 1])) = (10, 2)\n",
      "(nqubit, maximum([dim((commoninds(cp[n], cp[n + 1]))[1]) for n = 1:nqubit - 1])) = (10, 1024)\n",
      "(nqubit, maximum([dim((commoninds(block[n], block[n + 1]))[1]) for n = 1:nqubit - 1])) = (10, 2)\n",
      "(nqubit, maximum([dim((commoninds(cp[n], cp[n + 1]))[1]) for n = 1:nqubit - 1])) = (10, 1024)\n",
      "(nqubit, maximum([dim((commoninds(block[n], block[n + 1]))[1]) for n = 1:nqubit - 1])) = (10, 2)\n",
      "(nqubit, maximum([dim((commoninds(cp[n], cp[n + 1]))[1]) for n = 1:nqubit - 1])) = (10, 1024)\n",
      "(nqubit, maximum([dim((commoninds(block[n], block[n + 1]))[1]) for n = 1:nqubit - 1])) = (10, 2)\n",
      "(nqubit, maximum([dim((commoninds(cp[n], cp[n + 1]))[1]) for n = 1:nqubit - 1])) = (10, 1024)\n",
      "(nqubit, maximum([dim((commoninds(block[n], block[n + 1]))[1]) for n = 1:nqubit - 1])) = (10, 2)\n",
      "(nqubit, maximum([dim((commoninds(cp[n], cp[n + 1]))[1]) for n = 1:nqubit - 1])) = (10, 1024)\n",
      "(nqubit, maximum([dim((commoninds(block[n], block[n + 1]))[1]) for n = 1:nqubit - 1])) = (10, 2)\n",
      "(nqubit, maximum([dim((commoninds(cp[n], cp[n + 1]))[1]) for n = 1:nqubit - 1])) = (10, 1024)\n",
      "(nqubit, maximum([dim((commoninds(block[n], block[n + 1]))[1]) for n = 1:nqubit - 1])) = (10, 2)\n",
      "(nqubit, maximum([dim((commoninds(cp[n], cp[n + 1]))[1]) for n = 1:nqubit - 1])) = (10, 1024)\n",
      "(nqubit, maximum([dim((commoninds(block[n], block[n + 1]))[1]) for n = 1:nqubit - 1])) = (10, 2)\n",
      "(nqubit, maximum([dim((commoninds(cp[n], cp[n + 1]))[1]) for n = 1:nqubit - 1])) = (10, 1024)\n",
      "(nqubit, maximum([dim((commoninds(block[n], block[n + 1]))[1]) for n = 1:nqubit - 1])) = (10, 2)\n",
      "(nqubit, maximum([dim((commoninds(cp[n], cp[n + 1]))[1]) for n = 1:nqubit - 1])) = (10, 1024)\n",
      "(nqubit, maximum([dim((commoninds(block[n], block[n + 1]))[1]) for n = 1:nqubit - 1])) = (10, 2)\n",
      "(nqubit, maximum([dim((commoninds(cp[n], cp[n + 1]))[1]) for n = 1:nqubit - 1])) = (10, 1024)\n",
      "(nqubit, maximum([dim((commoninds(block[n], block[n + 1]))[1]) for n = 1:nqubit - 1])) = (10, 2)\n",
      "(nqubit, maximum([dim((commoninds(cp[n], cp[n + 1]))[1]) for n = 1:nqubit - 1])) = (10, 1024)\n",
      "(nqubit, maximum([dim((commoninds(block[n], block[n + 1]))[1]) for n = 1:nqubit - 1])) = (10, 2)\n",
      "(nqubit, maximum([dim((commoninds(cp[n], cp[n + 1]))[1]) for n = 1:nqubit - 1])) = (10, 1024)\n",
      "(nqubit, maximum([dim((commoninds(block[n], block[n + 1]))[1]) for n = 1:nqubit - 1])) = (10, 2)\n",
      "(nqubit, maximum([dim((commoninds(cp[n], cp[n + 1]))[1]) for n = 1:nqubit - 1])) = (10, 1024)\n",
      "(nqubit, maximum([dim((commoninds(block[n], block[n + 1]))[1]) for n = 1:nqubit - 1])) = (10, 2)\n",
      "(nqubit, maximum([dim((commoninds(cp[n], cp[n + 1]))[1]) for n = 1:nqubit - 1])) = (10, 1024)\n",
      "(nqubit, maximum([dim((commoninds(block[n], block[n + 1]))[1]) for n = 1:nqubit - 1])) = (10, 2)\n",
      "(nqubit, maximum([dim((commoninds(cp[n], cp[n + 1]))[1]) for n = 1:nqubit - 1])) = (10, 1024)\n",
      "(nqubit, maximum([dim((commoninds(block[n], block[n + 1]))[1]) for n = 1:nqubit - 1])) = (10, 2)\n",
      "(nqubit, maximum([dim((commoninds(cp[n], cp[n + 1]))[1]) for n = 1:nqubit - 1])) = (10, 1024)\n",
      "(nqubit, maximum([dim((commoninds(block[n], block[n + 1]))[1]) for n = 1:nqubit - 1])) = (10, 2)\n",
      "(nqubit, maximum([dim((commoninds(cp[n], cp[n + 1]))[1]) for n = 1:nqubit - 1])) = (10, 1024)\n",
      "(nqubit, maximum([dim((commoninds(block[n], block[n + 1]))[1]) for n = 1:nqubit - 1])) = (10, 2)\n",
      "(nqubit, maximum([dim((commoninds(cp[n], cp[n + 1]))[1]) for n = 1:nqubit - 1])) = (10, 1024)\n",
      "(nqubit, maximum([dim((commoninds(block[n], block[n + 1]))[1]) for n = 1:nqubit - 1])) = (10, 2)\n",
      "(nqubit, maximum([dim((commoninds(cp[n], cp[n + 1]))[1]) for n = 1:nqubit - 1])) = (10, 1024)\n",
      "(nqubit, maximum([dim((commoninds(block[n], block[n + 1]))[1]) for n = 1:nqubit - 1])) = (10, 2)\n",
      "(nqubit, maximum([dim((commoninds(cp[n], cp[n + 1]))[1]) for n = 1:nqubit - 1])) = (10, 1024)\n",
      "(nqubit, maximum([dim((commoninds(block[n], block[n + 1]))[1]) for n = 1:nqubit - 1])) = (10, 2)\n",
      "(nqubit, maximum([dim((commoninds(cp[n], cp[n + 1]))[1]) for n = 1:nqubit - 1])) = (10, 1024)\n",
      "(nqubit, maximum([dim((commoninds(block[n], block[n + 1]))[1]) for n = 1:nqubit - 1])) = (10, 2)\n",
      "(nqubit, maximum([dim((commoninds(cp[n], cp[n + 1]))[1]) for n = 1:nqubit - 1])) = (10, 1024)\n",
      "(nqubit, maximum([dim((commoninds(block[n], block[n + 1]))[1]) for n = 1:nqubit - 1])) = (10, 2)\n",
      "(nqubit, maximum([dim((commoninds(cp[n], cp[n + 1]))[1]) for n = 1:nqubit - 1])) = (10, 1024)\n",
      "(nqubit, maximum([dim((commoninds(block[n], block[n + 1]))[1]) for n = 1:nqubit - 1])) = (10, 2)\n",
      "(nqubit, maximum([dim((commoninds(cp[n], cp[n + 1]))[1]) for n = 1:nqubit - 1])) = (10, 1024)\n",
      "(nqubit, maximum([dim((commoninds(block[n], block[n + 1]))[1]) for n = 1:nqubit - 1])) = (10, 2)\n",
      "(nqubit, maximum([dim((commoninds(cp[n], cp[n + 1]))[1]) for n = 1:nqubit - 1])) = (10, 1024)\n",
      "(nqubit, maximum([dim((commoninds(block[n], block[n + 1]))[1]) for n = 1:nqubit - 1])) = (10, 2)\n",
      "(nqubit, maximum([dim((commoninds(cp[n], cp[n + 1]))[1]) for n = 1:nqubit - 1])) = (10, 1024)\n",
      "(nqubit, maximum([dim((commoninds(block[n], block[n + 1]))[1]) for n = 1:nqubit - 1])) = (10, 2)\n",
      "(nqubit, maximum([dim((commoninds(cp[n], cp[n + 1]))[1]) for n = 1:nqubit - 1])) = (10, 1024)\n",
      "(nqubit, maximum([dim((commoninds(block[n], block[n + 1]))[1]) for n = 1:nqubit - 1])) = (10, 2)\n"
     ]
    }
   ],
   "source": [
    "nbits_all = collect(2:10)\n",
    "bonddims = Int[]\n",
    "for nbits_ in nbits_all\n",
    "    m = ExecFullQFT(siteinds(\"Qubit\", nbits_); cutoffcp=1e-20, cutoffblock=1e-20)\n",
    "    push!(bonddims, maximum([dim(commoninds(m[n], m[n+1])[1]) for n in 1:(nbits_-1)]))\n",
    "end\n",
    "\n",
    "#maximum(linkdims(M))\n",
    "#maximum([dim(commoninds(m[n], m[n+1])[1])"
   ]
  },
  {
   "cell_type": "code",
   "execution_count": 61,
   "metadata": {},
   "outputs": [],
   "source": [
    "using Revise\n",
    "using PyPlot"
   ]
  },
  {
   "cell_type": "code",
   "execution_count": 62,
   "metadata": {},
   "outputs": [
    {
     "data": {
      "text/plain": [
       "6-element Vector{Int64}:\n",
       " 2\n",
       " 2\n",
       " 4\n",
       " 4\n",
       " 8\n",
       " 8"
      ]
     },
     "execution_count": 62,
     "metadata": {},
     "output_type": "execute_result"
    }
   ],
   "source": [
    "bonddims"
   ]
  },
  {
   "cell_type": "code",
   "execution_count": 63,
   "metadata": {},
   "outputs": [
    {
     "data": {
      "image/png": "[encoded data removed]",
      "text/plain": [
       "Figure(PyObject <Figure size 640x400 with 1 Axes>)"
      ]
     },
     "metadata": {},
     "output_type": "display_data"
    }
   ],
   "source": [
    "fig = figure(figsize=(6.4, 4.0))\n",
    "\n",
    "annotate(L\"\\epsilon=10^{-20}\", xycoords=\"axes fraction\", xy=(0.02, 0.9), fontsize=18)\n",
    "plot(nbits_all, bonddims, marker=\"o\")\n",
    "xlabel(L\"R\")\n",
    "ylabel(\"Bond dimension\")\n",
    "ylim([0, 15])\n",
    "\n",
    "tight_layout()\n",
    "\n",
    "savefig(\"ft_bonddim_R$nbits.pdf\", bbox_inches=\"tight\", transparent=true)\n",
    "\n",
    "display(gcf())\n",
    "close(gcf())"
   ]
  },
  {
   "cell_type": "code",
   "execution_count": 8,
   "metadata": {},
   "outputs": [
    {
     "data": {
      "text/plain": [
       "replace_mpo_siteinds! (generic function with 1 method)"
      ]
     },
     "execution_count": 8,
     "metadata": {},
     "output_type": "execute_result"
    }
   ],
   "source": [
    "function replace_mpo_siteinds!(M::MPO, sites_src, sites_dst)\n",
    "    sites_src = noprime(sites_src) # noprimeでprime level set to zero.\n",
    "    sites_dst = noprime(sites_dst)\n",
    "    for j in eachindex(M)\n",
    "        replaceind!(M[j], sites_src[j], sites_dst[j])\n",
    "        replaceind!(M[j], sites_src[j]', sites_dst[j]')\n",
    "    end\n",
    "    return M\n",
    "end"
   ]
  },
  {
   "cell_type": "code",
   "execution_count": 9,
   "metadata": {},
   "outputs": [
    {
     "name": "stdout",
     "output_type": "stream",
     "text": [
      "sites = Index{Int64}[(dim=2|id=855|\"Qubit,Site,n=1\"), (dim=2|id=112|\"Qubit,Site,n=2\"), (dim=2|id=832|\"Qubit,Site,n=3\")]\n",
      "M = MPO\n",
      "[1] ((dim=2|id=855|\"Qubit,Site,n=1\")', (dim=2|id=855|\"Qubit,Site,n=1\"), (dim=1|id=366|\"Link,l=1\"))\n",
      "[2] ((dim=2|id=112|\"Qubit,Site,n=2\")', (dim=2|id=112|\"Qubit,Site,n=2\"), (dim=1|id=932|\"Link,l=2\"), (dim=1|id=366|\"Link,l=1\"))\n",
      "[3] ((dim=2|id=832|\"Qubit,Site,n=3\")', (dim=2|id=832|\"Qubit,Site,n=3\"), (dim=1|id=932|\"Link,l=2\"))\n",
      "\n",
      "sites2 = Index{Int64}[(dim=2|id=415|\"n=1\"), (dim=2|id=692|\"n=2\"), (dim=2|id=523|\"n=3\")]\n",
      "(sites[1])' = (dim=2|id=855|\"Qubit,Site,n=1\")'\n"
     ]
    }
   ],
   "source": [
    "# test for replace_mpo_siteinds!\n",
    "nbit = 3\n",
    "sites = siteinds(\"Qubit\", nbit)\n",
    "@show sites\n",
    "M = MPO(sites, [\"Y\" for n in 1:nbit])\n",
    "@show M\n",
    "sites2 = [Index(2, \"n=$n\") for n in 1:nbit]\n",
    "@show sites2\n",
    "replace_mpo_siteinds!(M, sites, sites2)\n",
    "@assert all([!hasind(M[n], sites[n]) for n in 1:nbit])\n",
    "@show sites[1]'\n",
    "@assert all([!hasind(M[n], sites[n]') for n in 1:nbit])\n",
    "@assert all([hasind(M[n], sites2[n]) for n in 1:nbit])\n",
    "@assert all([hasind(M[n], sites2[n]') for n in 1:nbit])"
   ]
  },
  {
   "cell_type": "code",
   "execution_count": 10,
   "metadata": {},
   "outputs": [
    {
     "data": {
      "text/plain": [
       "_QFT (generic function with 1 method)"
      ]
     },
     "execution_count": 10,
     "metadata": {},
     "output_type": "execute_result"
    }
   ],
   "source": [
    "function _QFT(sites; cutoffcp::Float64=1e-14, cutoffblock::Float64=1e-20, inputorder=normal)\n",
    "    M = ExecFullQFT(sites; cutoffcp=cutoffcp, cutoffblock=cutoffblock)\n",
    "    M *= 2.0^(-0.5 * length(sites))\n",
    "    if inputorder == :normal\n",
    "        M = MPO([M[n] for n in length(M):-1:1]) #一番左がメッシュの小さい桁の数に直している？（どこでもとの順序に直している？）\n",
    "        replace_mpo_siteinds!(M, reverse(sites), sites)\n",
    "    end\n",
    "    return M\n",
    "end"
   ]
  },
  {
   "cell_type": "code",
   "execution_count": 11,
   "metadata": {},
   "outputs": [
    {
     "ename": "LoadError",
     "evalue": "UndefVarError: FTCore not defined",
     "output_type": "error",
     "traceback": [
      "UndefVarError: FTCore not defined",
      "",
      "Stacktrace:",
      " [1] top-level scope",
      "   @ In[11]:1",
      " [2] eval",
      "   @ ./boot.jl:368 [inlined]",
      " [3] include_string(mapexpr::typeof(REPL.softscope), mod::Module, code::String, filename::String)",
      "   @ Base ./loading.jl:1428"
     ]
    }
   ],
   "source": [
    "function forwardmpo(ftcore::FTCore, sites; inputorder=:normal)\n",
    "    inputorder ∈ [:normal, :reversed] || error(\"Invalid inputorder\")\n",
    "\n",
    "    if inputorder == :normal\n",
    "        M = copy(ftcore.forward)\n",
    "        replace_mpo_siteinds!(M, extractsites(M), sites)\n",
    "        return M\n",
    "    else\n",
    "        error(\"Not implemented yet\")\n",
    "    end\n",
    "end"
   ]
  },
  {
   "cell_type": "markdown",
   "metadata": {},
   "source": [
    "## test"
   ]
  },
  {
   "cell_type": "markdown",
   "metadata": {},
   "source": [
    "## 1量子ビットQFT"
   ]
  },
  {
   "cell_type": "code",
   "execution_count": 12,
   "metadata": {},
   "outputs": [
    {
     "name": "stdout",
     "output_type": "stream",
     "text": [
      "qft_1_arr = [0.7071067811865475, 0.7071067811865475]\n"
     ]
    }
   ],
   "source": [
    "## check\n",
    "nqubit = 1\n",
    "sites = siteinds(\"Qubit\", nqubit)  \n",
    "psi = MPS(sites, [\"0\"]) \n",
    "qft_1 = ExecFullQFT(sites; cutoffcp=1e-14, cutoffblock=1e-20)\n",
    "qft_1_mpo = apply(qft_1, psi; cutoff=1e-20) \n",
    "qft_1_arr = Array(reduce(*, qft_1_mpo), sites)\n",
    "@show qft_1_arr\n",
    "\n",
    "## test\n",
    "nqubit = 1 \n",
    "sites = siteinds(\"Qubit\", nqubit)  \n",
    "layer1 = MPO(Op(\"H\", 1), sites)\n",
    "psi = MPS(sites, [\"0\"]) \n",
    "res = apply(layer1, psi) \n",
    "res_arr = Array(reduce(*, res), sites)\n",
    "\n",
    "@assert qft_1_arr == res_arr"
   ]
  },
  {
   "cell_type": "markdown",
   "metadata": {},
   "source": [
    "## 2量子ビット"
   ]
  },
  {
   "cell_type": "code",
   "execution_count": 13,
   "metadata": {},
   "outputs": [
    {
     "name": "stdout",
     "output_type": "stream",
     "text": [
      "qft_2_arr = ComplexF64[0.4999999999999999 - 1.6269787532313372e-16im -0.4999999999999999 + 1.8110545273503293e-16im; 6.182246798045963e-17 - 0.5im -4.3414890568560417e-17 + 0.5im]\n",
      "res_arr = ComplexF64[0.4999999999999996 - 7.850462293418873e-17im -0.4999999999999996 + 7.850462293418873e-17im; 7.850462293418873e-17 - 0.4999999999999998im -7.850462293418873e-17 + 0.4999999999999998im]\n"
     ]
    }
   ],
   "source": [
    "## check\n",
    "nqubit = 2\n",
    "sites = siteinds(\"Qubit\", nqubit)  \n",
    "psi = MPS(sites, [\"1\",\"1\"]) \n",
    "qft_2 = ExecFullQFT(sites)\n",
    "qft_2_mpo = apply(qft_2, psi; cutoff=1e-20) \n",
    "qft_2_arr = Array(reduce(*, qft_2_mpo), sites)\n",
    "@show qft_2_arr\n",
    "\n",
    "## test\n",
    "nqubit = 2 \n",
    "sites = siteinds(\"Qubit\", nqubit)  \n",
    "psi = MPS(sites, [\"1\", \"1\"]) \n",
    "# Create H_1\n",
    "h1 = MPO(Op(\"H\", 1), sites)\n",
    "res = apply(h1, psi; cutoff=1e-20) \n",
    "# Create CR(2,1)\n",
    "cp12 = op(\"CPHASE2\", sites, 2,1; ϕ=(1/2^2))\n",
    "cp12 = MPO(cp12, sites)\n",
    "res = apply(cp12, res; cutoff=1e-20) \n",
    "\n",
    "h2 = MPO(Op(\"H\", 2), sites)\n",
    "res = apply(h2, res; cutoff=1e-20) \n",
    "res_arr = Array(reduce(*, res), sites)\n",
    "@show res_arr\n",
    "@assert isapprox(res_arr, qft_2_arr)\n",
    "#@assert res_arr == qft_2_arr"
   ]
  },
  {
   "cell_type": "markdown",
   "metadata": {},
   "source": [
    "## Blockごとに圧縮をかける方法"
   ]
  },
  {
   "cell_type": "code",
   "execution_count": 14,
   "metadata": {},
   "outputs": [
    {
     "name": "stdout",
     "output_type": "stream",
     "text": [
      "qft_2_arr = ComplexF64[0.4999999999999999 - 1.6269787532313372e-16im -0.4999999999999999 + 1.8110545273503293e-16im; 6.182246798045963e-17 - 0.5im -4.3414890568560417e-17 + 0.5im]\n",
      "res_arr = ComplexF64[0.4999999999999998 - 1.3842737727467785e-16im -0.4999999999999998 + 1.3842737727467785e-16im; 4.246865884799244e-17 - 0.49999999999999983im -4.246865884799244e-17 + 0.49999999999999983im]\n"
     ]
    }
   ],
   "source": [
    "## check\n",
    "nqubit = 2\n",
    "sites = siteinds(\"Qubit\", nqubit)  \n",
    "psi = MPS(sites, [\"1\",\"1\"]) \n",
    "qft_2 = ExecFullQFT(sites)\n",
    "qft_2_mpo = apply(qft_2, psi; cutoff=1e-20) \n",
    "qft_2_arr = Array(reduce(*, qft_2_mpo), sites)\n",
    "@show qft_2_arr\n",
    "\n",
    "## test\n",
    "nqubit = 2 \n",
    "sites = siteinds(\"Qubit\", nqubit)  \n",
    "psi = MPS(sites, [\"1\", \"1\"]) \n",
    "# Create H_1\n",
    "h1 = MPO(Op(\"H\", 1), sites)\n",
    "#res = apply(h1, psi; cutoff=1e-20) \n",
    "# Create CR(2,1)\n",
    "cp12 = op(\"CPHASE2\", sites, 2,1; ϕ=(1/2^2))\n",
    "cp12 = MPO(cp12, sites)\n",
    "layer1 = apply(cp12, h1)\n",
    "res = apply(layer1, psi; cutoff=1e-20) \n",
    "h2 = MPO(Op(\"H\", 2), sites)\n",
    "res = apply(h2, res; cutoff=1e-20) \n",
    "res_arr = Array(reduce(*, res), sites)\n",
    "@show res_arr\n",
    "@assert isapprox(res_arr, qft_2_arr)\n",
    "#@assert res_arr == qft_2_arr"
   ]
  },
  {
   "cell_type": "markdown",
   "metadata": {},
   "source": [
    "## 3量子ビット"
   ]
  },
  {
   "cell_type": "code",
   "execution_count": 15,
   "metadata": {},
   "outputs": [
    {
     "name": "stdout",
     "output_type": "stream",
     "text": [
      "qft_3_arr = [0.3535533905932724 + 7.181611006084304e-17im 6.681653774269991e-17 + 0.3535533905932728im; 0.24999999999999967 + 0.2499999999999992im -0.24999999999999936 + 0.24999999999999994im;;; -0.35355339059327257 - 1.218918054692504e-16im -2.884225815018681e-17 - 0.35355339059327273im; -0.24999999999999967 - 0.24999999999999925im 0.24999999999999933 - 0.24999999999999986im]\n"
     ]
    }
   ],
   "source": [
    "## check\n",
    "nqubit = 3\n",
    "sites = siteinds(\"Qubit\", nqubit)  \n",
    "psi = MPS(sites, [\"0\",\"0\",\"1\"]) \n",
    "qft_3 = ExecFullQFT(sites)\n",
    "qft_3_mpo = apply(qft_3, psi; cutoff=1e-20) \n",
    "qft_3_arr = Array(reduce(*, qft_3_mpo), sites)\n",
    "@show qft_3_arr\n",
    "\n",
    "\n",
    "##test\n",
    "nqubit = 3\n",
    "sites = siteinds(\"Qubit\", nqubit) \n",
    "\n",
    "# layer1\n",
    "h1 = MPO(Op(\"H\", 1), sites)\n",
    "cp12 = op(\"CPHASE2\", sites, 2,1; ϕ=(1/2^2)) * op(\"Id\", sites, 3)\n",
    "cp12 = MPO(cp12, sites)\n",
    "cp13 = op(\"CPHASE2\", sites, 3,1; ϕ=(1/2^3)) * op(\"Id\", sites, 2)\n",
    "cp13 = MPO(cp13, sites)\n",
    "layer1 = apply(cp12, h1) # H_1 \n",
    "layer1 = apply(cp13, layer1)\n",
    "h2 = MPO(Op(\"H\", 2), sites)\n",
    "cp23 = op(\"CPHASE2\", sites, 3,2; ϕ=(1/2^2)) * op(\"Id\", sites, 1)\n",
    "cp23 = MPO(cp23, sites)\n",
    "layer2 = apply(cp23, h2)\n",
    "#layer3\n",
    "layer3 = MPO(Op(\"H\", 3), sites)\n",
    "layer12 = apply(layer2, layer1)\n",
    "layer123 = apply(layer3, layer12)\n",
    "psi = MPS(sites, [\"0\", \"0\", \"1\"]) \n",
    "res = apply(layer123, psi; cutoff=1e-20) \n",
    "res_arr = Array(reduce(*, res), sites) #c_{ijk}\n",
    "#@assert isapprox(res_arr, 1/sqrt(2)^3 .* [1.0 1.0; 1.0 1.0 ;;; 1.0 1.0; 1.0 1.0])\n",
    "#@assert res_arr == qft_3_arr\n",
    "@assert isapprox(res_arr, qft_3_arr)"
   ]
  },
  {
   "cell_type": "markdown",
   "metadata": {},
   "source": [
    "## G($\\tau$) のMPS表示\n"
   ]
  },
  {
   "cell_type": "code",
   "execution_count": 16,
   "metadata": {},
   "outputs": [],
   "source": [
    "using Revise\n",
    "using PyPlot\n",
    "using LaTeXStrings\n",
    "using PyCall\n",
    "\n",
    "using LinearAlgebra\n",
    "using SparseIR\n",
    "import SparseIR: valueim"
   ]
  },
  {
   "cell_type": "code",
   "execution_count": 17,
   "metadata": {},
   "outputs": [
    {
     "data": {
      "text/plain": [
       "1-element Vector{String}:\n",
       " \"Computer Modern Roman\""
      ]
     },
     "execution_count": 17,
     "metadata": {},
     "output_type": "execute_result"
    }
   ],
   "source": [
    "rcParams = PyDict(matplotlib[\"rcParams\"])\n",
    "rcParams[\"font.size\"] = 18\n",
    "rcParams[\"text.usetex\"] = true\n",
    "rcParams[\"font.family\"] = \"serif\"\n",
    "rcParams[\"font.serif\"] = [\"Computer Modern Roman\"]"
   ]
  },
  {
   "cell_type": "code",
   "execution_count": 18,
   "metadata": {},
   "outputs": [],
   "source": [
    "BLAS.set_num_threads(16)"
   ]
  },
  {
   "cell_type": "code",
   "execution_count": 19,
   "metadata": {},
   "outputs": [
    {
     "name": "stdout",
     "output_type": "stream",
     "text": [
      "1\n"
     ]
    }
   ],
   "source": [
    "println(Threads.nthreads())"
   ]
  },
  {
   "cell_type": "code",
   "execution_count": 20,
   "metadata": {},
   "outputs": [
    {
     "name": "stdout",
     "output_type": "stream",
     "text": [
      "16\n"
     ]
    }
   ],
   "source": [
    "using ITensors\n",
    "ITensors.disable_warn_order()\n",
    "println(ITensors.blas_get_num_threads())"
   ]
  },
  {
   "cell_type": "code",
   "execution_count": 21,
   "metadata": {},
   "outputs": [
    {
     "data": {
      "text/plain": [
       "16777216"
      ]
     },
     "execution_count": 21,
     "metadata": {},
     "output_type": "execute_result"
    }
   ],
   "source": [
    "nbits = 24\n",
    "sites = siteinds(\"Qubit\", nbits)\n",
    "β = 100.0\n",
    "ω = 1.0\n",
    "2^nbits"
   ]
  },
  {
   "cell_type": "code",
   "execution_count": 22,
   "metadata": {},
   "outputs": [
    {
     "data": {
      "text/plain": [
       "gtaumps (generic function with 1 method)"
      ]
     },
     "execution_count": 22,
     "metadata": {},
     "output_type": "execute_result"
    }
   ],
   "source": [
    "function gtaumps(sites, β, ω)\n",
    "    nbits = length(sites)\n",
    "    m = MPS(ComplexF64, sites, linkdims=1)\n",
    "    linkinds = [commoninds(m[n], m[n+1])[1] for n in 1:(nbits-1)]    #https://docs.juliahub.com/ITensors/P3pqL/0.2.1/ITensorType.html#ITensors.commoninds\n",
    "    elem(n, t) = exp(-(t-1) * β *  ω * 2.0^(-n))\n",
    "    for n in 1:nbits\n",
    "        if n == 1\n",
    "            for t in 1:2\n",
    "                m[n][linkinds[n]=>1, sites[n]=>t] = elem(n, t)\n",
    "            end\n",
    "        elseif n == nbits\n",
    "            for t in 1:2\n",
    "                m[n][linkinds[n-1]=>1, sites[n]=>t] = elem(n, t)\n",
    "            end\n",
    "        else\n",
    "            for t in 1:2\n",
    "                m[n][linkinds[n-1]=>1, linkinds[n]=>1, sites[n]=>t] = elem(n, t)\n",
    "            end\n",
    "        end\n",
    "    end\n",
    "    return (-1/(1 + exp(-β * ω))) * m\n",
    "end"
   ]
  },
  {
   "cell_type": "code",
   "execution_count": 23,
   "metadata": {},
   "outputs": [],
   "source": [
    "mgtau = gtaumps(sites, β, ω);"
   ]
  },
  {
   "cell_type": "code",
   "execution_count": 24,
   "metadata": {},
   "outputs": [],
   "source": [
    "gtau_reconst = vec(Array(reduce(*, mgtau), reverse(sites)));"
   ]
  },
  {
   "cell_type": "code",
   "execution_count": 25,
   "metadata": {},
   "outputs": [
    {
     "data": {
      "image/png": "[encoded data removed]",
      "text/plain": [
       "Figure(PyObject <Figure size 640x480 with 1 Axes>)"
      ]
     },
     "metadata": {},
     "output_type": "display_data"
    },
    {
     "data": {
      "text/plain": [
       "1-element Vector{PyObject}:\n",
       " PyObject <matplotlib.lines.Line2D object at 0x3d8c2f100>"
      ]
     },
     "execution_count": 25,
     "metadata": {},
     "output_type": "execute_result"
    }
   ],
   "source": [
    "tau = LinRange(0.0, β, 2^nbits+1)[1:end-1]\n",
    "plot(tau, real.(gtau_reconst),color=\"b\")\n",
    "gtaufunc(τ) = - exp(- ω * τ) / (1 + exp(- ω * β))\n",
    "plot(tau, gtaufunc.(tau),color=\"r\")"
   ]
  },
  {
   "cell_type": "code",
   "execution_count": 26,
   "metadata": {},
   "outputs": [],
   "source": [
    "@assert real.(gtau_reconst) ≈ gtaufunc.(tau) # test!"
   ]
  },
  {
   "cell_type": "code",
   "execution_count": null,
   "metadata": {},
   "outputs": [],
   "source": []
  },
  {
   "cell_type": "markdown",
   "metadata": {},
   "source": [
    "Util"
   ]
  },
  {
   "cell_type": "code",
   "execution_count": null,
   "metadata": {},
   "outputs": [],
   "source": []
  },
  {
   "cell_type": "code",
   "execution_count": null,
   "metadata": {},
   "outputs": [],
   "source": []
  }
 ],
 "metadata": {
  "kernelspec": {
   "display_name": "Julia 1.8.0",
   "language": "julia",
   "name": "julia-1.8"
  },
  "language_info": {
   "file_extension": ".jl",
   "mimetype": "application/julia",
   "name": "julia",
   "version": "1.8.0"
  },
  "vscode": {
   "interpreter": {
    "hash": "31f2aee4e71d21fbe5cf8b01ff0e069b9275f58929596ceb00d14d90e3e16cd6"
   }
  }
 },
 "nbformat": 4,
 "nbformat_minor": 4
}
