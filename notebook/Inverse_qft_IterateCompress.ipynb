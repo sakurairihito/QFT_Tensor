{
 "cells": [
  {
   "cell_type": "code",
   "execution_count": 24,
   "metadata": {},
   "outputs": [],
   "source": [
    "using ITensors"
   ]
  },
  {
   "cell_type": "code",
   "execution_count": 25,
   "metadata": {},
   "outputs": [
    {
     "data": {
      "text/plain": [
       "\"Synthesize two MPO as M2 * M1.\\nWhen using the synthesized MPO, M1 will be applied to a MPS first, then M2.\\n\""
      ]
     },
     "metadata": {},
     "output_type": "display_data"
    }
   ],
   "source": [
    "\"\"\"\n",
    "Synthesize two MPO as M2 * M1.\n",
    "When using the synthesized MPO, M1 will be applied to a MPS first, then M2.\n",
    "\"\"\"\n",
    "#Not used\n",
    "#function synthesize(M1::MPO, M2::MPO)\n",
    "#    M21 = contract(prime(M2), M1)\n",
    "#    prime(M21, -1, plev=2) # -1? plev=2?\n",
    "#end\n",
    "\n",
    "#use apply"
   ]
  },
  {
   "cell_type": "code",
   "execution_count": 29,
   "metadata": {},
   "outputs": [],
   "source": [
    "function ITensors.op(::OpName\"CPHASE2\", ::SiteType\"Qubit\"; ϕ::Number, inv=false)\n",
    "  if inv\n",
    "    sgn = -1.0\n",
    "  else\n",
    "    sgn = 1.0\n",
    "  end\n",
    "  return [\n",
    "      1 0 0 0\n",
    "      0 1 0 0\n",
    "      0 0 1 0\n",
    "      0 0 0 exp(sgn * im * 2π * ϕ)\n",
    "    ]\n",
    "  end\n",
    "  ITensors.op(::OpName\"Cphase2\", t::SiteType\"Qubit\"; kwargs...) = op(\"CPHASE2\", t; kwargs...)\n",
    "\n",
    "  # https://github.com/ITensor/ITensors.jl/blob/main/src/physics/site_types/qubit.jl"
   ]
  },
  {
   "cell_type": "markdown",
   "metadata": {},
   "source": [
    "## QFT FUNCTION\n",
    "### 繰り返し圧縮をする場合 "
   ]
  },
  {
   "cell_type": "code",
   "execution_count": 39,
   "metadata": {},
   "outputs": [
    {
     "data": {
      "text/plain": [
       "ExecFullInvQFT (generic function with 3 methods)"
      ]
     },
     "metadata": {},
     "output_type": "display_data"
    }
   ],
   "source": [
    "#  One Controled Phase gate\n",
    "# controled がかかっていない量子ビットには、Identityを作用させる。\n",
    "function CP(nqubit, sites, a, b, phase; inv=true)\n",
    "    cp = op(\"CPHASE2\", sites, a, b; ϕ=1/2^(phase), inv)\n",
    "    for i in 1:nqubit #[1,2]から1,2を抜いた配列\n",
    "        if i == a || i == b\n",
    "            continue\n",
    "        end\n",
    "        #@show i\n",
    "        cp *= op(\"Id\", sites, i)\n",
    "    end\n",
    "    return cp\n",
    "end\n",
    "\n",
    "# layer1 のcontroled phase gate ######\n",
    "function MakeOneBlockInvQFT(nqubit, sites, offset; inv=true, cutoffcp::Float64=1e-14) #offsetは,Hがかかる位置\n",
    "    #Dummy\n",
    "    block = MPO(Op(\"Id\", offset), sites) \n",
    "    for i in reverse(range(1, nqubit-offset)) #EX)nqubit=3, offset=1\n",
    "        # range(1, 0)の場合for分の中で何も起こらないことを利用している。\n",
    "        phase = i+1\n",
    "        cp = CP(nqubit, sites, i+offset, offset, phase, inv=inv) #phase=2,3,4,5,6,,,　#layerをここにする。\n",
    "        cp = MPO(cp, sites)\n",
    "        block = apply(cp, block; cutoff=cutoffcp)\n",
    "    end\n",
    "\n",
    "    h = MPO(Op(\"H\", offset), sites)\n",
    "    block = apply(h, block, cutoff=cutoffcp)\n",
    "    return block\n",
    "end\n",
    "\n",
    "function ExecFullInvQFT(sites, nqubit; cutoffcp::Float64=1e-14, cutoffblock::Float64=1e-20)\n",
    "    fullqft = MPO(Op(\"Id\", 1), sites) #Dummy\n",
    "    for offset in reverse(range(1, nqubit))\n",
    "        qftblock = MakeOneBlockInvQFT(nqubit, sites, offset; cutoffcp=cutoffcp)\n",
    "        fullqft = apply(qftblock, fullqft;  cutoffblock=1e-20) # Compress!\n",
    "    end\n",
    "    return fullqft\n",
    "end"
   ]
  },
  {
   "cell_type": "markdown",
   "metadata": {},
   "source": [
    "## test"
   ]
  },
  {
   "cell_type": "markdown",
   "metadata": {},
   "source": [
    "## 1量子ビット逆QFT"
   ]
  },
  {
   "cell_type": "code",
   "execution_count": 40,
   "metadata": {},
   "outputs": [
    {
     "name": "stdout",
     "output_type": "stream",
     "text": [
      "qft_1_arr = [0.7071067811865475, -0.7071067811865475]\n"
     ]
    }
   ],
   "source": [
    "## check\n",
    "nqubit = 1\n",
    "sites = siteinds(\"Qubit\", nqubit)  \n",
    "psi = MPS(sites, [\"1\"]) \n",
    "#qft_1 = ExecFullInvQFT(sites, nqubit; cutoffcp=1e-14, cutoffblock=1e-14)\n",
    "qft_1 = ExecFullInvQFT(sites, nqubit; cutoffcp=1e-14,  cutoffblock=1e-20)\n",
    "qft_1_mpo = apply(qft_1, psi; cutoff=1e-20) \n",
    "qft_1_arr = Array(reduce(*, qft_1_mpo), sites)\n",
    "@show qft_1_arr\n",
    "\n",
    "## test\n",
    "nqubit = 1 \n",
    "sites = siteinds(\"Qubit\", nqubit)  \n",
    "layer1 = MPO(Op(\"H\", 1), sites)\n",
    "psi = MPS(sites, [\"1\"]) \n",
    "res = apply(layer1, psi; cutoff=1e-20) \n",
    "res_arr = Array(reduce(*, res), sites)\n",
    "\n",
    "@assert qft_1_arr == res_arr"
   ]
  },
  {
   "cell_type": "markdown",
   "metadata": {},
   "source": [
    "## 2量子ビット逆QFT"
   ]
  },
  {
   "cell_type": "code",
   "execution_count": 41,
   "metadata": {},
   "outputs": [
    {
     "name": "stdout",
     "output_type": "stream",
     "text": [
      "qft_2_arr = ComplexF64[0.4999999999999994 + 1.867230990547788e-17im -9.717693283966666e-17 + 0.49999999999999983im; -0.4999999999999994 - 1.867230990547788e-17im 9.717693283966666e-17 - 0.49999999999999983im]\n",
      "res_arr = ComplexF64[0.49999999999999933 + 3.852037975195809e-16im 3.1597621837087197e-16 + 0.4999999999999994im; -0.49999999999999933 - 3.852037975195809e-16im -3.1597621837087197e-16 - 0.4999999999999994im]\n"
     ]
    }
   ],
   "source": [
    "## check\n",
    "nqubit = 2\n",
    "sites = siteinds(\"Qubit\", nqubit)  \n",
    "psi = MPS(sites, [\"1\",\"1\"]) \n",
    "qft_2 = ExecFullInvQFT(sites, nqubit)\n",
    "qft_2_mpo = apply(qft_2, psi; cutoff=1e-20) \n",
    "qft_2_arr = Array(reduce(*, qft_2_mpo), sites)\n",
    "@show qft_2_arr\n",
    "\n",
    "## test\n",
    "nqubit = 2 \n",
    "sites = siteinds(\"Qubit\", nqubit)  \n",
    "psi = MPS(sites, [\"1\", \"1\"]) \n",
    "# Create H_1\n",
    "h1 = MPO(Op(\"H\", 2), sites)\n",
    "# Create CR(2,1)\n",
    "cp12 = op(\"CPHASE2\", sites, 2,1,inv=true; ϕ=(1/2^2))\n",
    "cp12 = MPO(cp12, sites)\n",
    "layer1 = apply(cp12, h1)\n",
    "h2 = MPO(Op(\"H\", 1), sites)\n",
    "layer2 = apply(h2, layer1)\n",
    "res = apply(layer2, psi; cutoff=1e-20) \n",
    "res_arr = Array(reduce(*, res), sites)\n",
    "@show res_arr\n",
    "\n",
    "@assert isapprox(real(res_arr), real(qft_2_arr))\n",
    "@assert isapprox(imag(res_arr), imag(qft_2_arr))"
   ]
  },
  {
   "cell_type": "markdown",
   "metadata": {},
   "source": [
    "## 3量子ビット"
   ]
  },
  {
   "cell_type": "code",
   "execution_count": 42,
   "metadata": {},
   "outputs": [
    {
     "name": "stdout",
     "output_type": "stream",
     "text": [
      "qft_3_arr = [0.35355339059327306 - 1.5027461392960995e-16im 3.019440158025344e-16 + 0.35355339059327295im; -0.3535533905932732 + 9.476346269835214e-17im -2.4643286457127655e-16 - 0.35355339059327306im;;; -0.2499999999999998 - 0.24999999999999956im 0.24999999999999936 - 0.24999999999999983im; 0.24999999999999983 + 0.2499999999999997im -0.24999999999999947 + 0.2499999999999999im]\n",
      "res_arr = [0.3535533905932729 - 9.795720772389027e-17im 4.949868246864862e-16 + 0.3535533905932727im; -0.3535533905932729 + 9.415106090377989e-17im -4.4186448783088004e-16 - 0.35355339059327273im;;; -0.24999999999999906 - 0.24999999999999933im 0.24999999999999892 - 0.24999999999999978im; 0.24999999999999906 + 0.24999999999999933im -0.249999999999999 + 0.24999999999999978im]\n"
     ]
    }
   ],
   "source": [
    "## check\n",
    "nqubit = 3\n",
    "sites = siteinds(\"Qubit\", nqubit)  \n",
    "psi = MPS(sites, [\"1\",\"1\",\"0\"]) \n",
    "qft_3 = ExecFullInvQFT(sites, nqubit)\n",
    "qft_3_mpo = apply(qft_3, psi; cutoff=1e-20) \n",
    "qft_3_arr = Array(reduce(*, qft_3_mpo), sites)\n",
    "@show qft_3_arr\n",
    "\n",
    "\n",
    "##test\n",
    "nqubit = 3\n",
    "sites = siteinds(\"Qubit\", nqubit) \n",
    "# layer1\n",
    "h3 = MPO(Op(\"H\", 3), sites)\n",
    "#layer2\n",
    "\n",
    "cp23 = op(\"CPHASE2\", sites, 3,2; ϕ=(1/2^2),inv=true) * op(\"Id\", sites, 1)\n",
    "cp23 = MPO(cp23, sites)\n",
    "h2 = MPO(Op(\"H\", 2), sites)\n",
    "layer2 = apply(h2, cp23)\n",
    "#layer3\n",
    "cp13 = op(\"CPHASE2\", sites, 3,1; ϕ=(1/2^3),inv=true) * op(\"Id\", sites, 2)\n",
    "cp13 = MPO(cp13, sites)\n",
    "cp12 = op(\"CPHASE2\", sites, 2,1; ϕ=(1/2^2),inv=true) * op(\"Id\", sites, 3)\n",
    "cp12 = MPO(cp12, sites)\n",
    "h1 = MPO(Op(\"H\", 1), sites)\n",
    "layer3 = apply(cp12, cp13) # H_1 \n",
    "layer3 = apply(h1, layer3)\n",
    "\n",
    "#layer3\n",
    "layer12 = apply(layer2, h3)\n",
    "layer123 = apply(layer3, layer12)\n",
    "psi = MPS(sites, [\"1\", \"1\", \"0\"]) \n",
    "res = apply(layer123, psi; cutoff=1e-20) \n",
    "res_arr = Array(reduce(*, res), sites) #c_{ijk}\n",
    "@show res_arr\n",
    "\n",
    "@assert isapprox(real(res_arr), real(qft_3_arr))\n",
    "@assert isapprox(imag(res_arr), imag(qft_3_arr))\n"
   ]
  },
  {
   "cell_type": "code",
   "execution_count": 10,
   "metadata": {},
   "outputs": [],
   "source": []
  },
  {
   "cell_type": "code",
   "execution_count": null,
   "metadata": {},
   "outputs": [],
   "source": []
  }
 ],
 "metadata": {
  "kernelspec": {
   "display_name": "Julia 1.8.0",
   "language": "julia",
   "name": "julia-1.8"
  },
  "language_info": {
   "file_extension": ".jl",
   "mimetype": "application/julia",
   "name": "julia",
   "version": "1.8.0"
  },
  "orig_nbformat": 4,
  "vscode": {
   "interpreter": {
    "hash": "31f2aee4e71d21fbe5cf8b01ff0e069b9275f58929596ceb00d14d90e3e16cd6"
   }
  }
 },
 "nbformat": 4,
 "nbformat_minor": 2
}
